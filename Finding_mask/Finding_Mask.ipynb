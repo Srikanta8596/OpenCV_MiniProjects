{
 "cells": [
  {
   "cell_type": "code",
   "execution_count": 10,
   "id": "825f5228",
   "metadata": {},
   "outputs": [],
   "source": [
    "import cv2"
   ]
  },
  {
   "cell_type": "code",
   "execution_count": 11,
   "id": "8b0760b6",
   "metadata": {},
   "outputs": [
    {
     "name": "stdout",
     "output_type": "stream",
     "text": [
      "Enter Image path:objects-to-detect.jpg\n",
      "min_blue, min_green, min_red = 0, 0, 0\n",
      "max_blue, max_green, max_red = 51, 153, 255\n"
     ]
    }
   ],
   "source": [
    "def do_nothing(x):\n",
    "    pass\n",
    "input_image=input('Enter Image path:')\n",
    "#WINDOW_NORMAL – Allows to manually change window size\n",
    "#WINDOW_AUTOSIZE(Default) – Automatically sets the window size\n",
    "#WINDOW_FULLSCREEN – Changes the window size to fullscreen\n",
    "cv2.namedWindow('Track Bars', cv2.WINDOW_NORMAL)\n",
    "# Defining Track Bars for convenient process of choosing colours\n",
    "#For minimum range\n",
    "cv2.createTrackbar('min_blue', 'Track Bars', 0, 255, do_nothing)\n",
    "cv2.createTrackbar('min_green', 'Track Bars', 0, 255, do_nothing)\n",
    "cv2.createTrackbar('min_red', 'Track Bars', 0, 255, do_nothing)\n",
    "#For maximum range\n",
    "cv2.createTrackbar('max_blue', 'Track Bars', 0, 255, do_nothing)\n",
    "cv2.createTrackbar('max_green', 'Track Bars', 0, 255, do_nothing)\n",
    "cv2.createTrackbar('max_red', 'Track Bars', 0, 255, do_nothing)\n",
    "\n",
    "# OpenCV by default read BGR format image\n",
    "#image_BGR=cv2.imread('objects-to-detect.jpg')\n",
    "image_BGR=cv2.imread(input_image)\n",
    "image_BGR = cv2.resize(image_BGR, (600, 426))\n",
    "\n",
    "cv2.namedWindow('Original Image', cv2.WINDOW_NORMAL)\n",
    "cv2.imshow('Original Image', image_BGR)\n",
    "\n",
    "# Converting orignal image to HSV\n",
    "image_HSV = cv2.cvtColor(image_BGR, cv2.COLOR_BGR2HSV)\n",
    "\n",
    "cv2.namedWindow('HSV Image', cv2.WINDOW_NORMAL)\n",
    "cv2.imshow('HSV Image', image_HSV)\n",
    "\n",
    "# while True:\n",
    "#     if cv2.waitKey(0):\n",
    "#         cv2.destroyAllWindows()\n",
    "#         break\n",
    "\n",
    "#Defining loop for choosing wright Colors for the mask\n",
    "while True:\n",
    "    #Defining variable to saving the taskbar value\n",
    "    \n",
    "    #minimum Value\n",
    "    min_blue = cv2.getTrackbarPos('min_blue', 'Track Bars')\n",
    "    min_green = cv2.getTrackbarPos('min_green', 'Track Bars')\n",
    "    min_red = cv2.getTrackbarPos('min_red', 'Track Bars')\n",
    "    #maximum Value\n",
    "    max_blue = cv2.getTrackbarPos('max_blue', 'Track Bars')\n",
    "    max_green = cv2.getTrackbarPos('max_green', 'Track Bars')\n",
    "    max_red = cv2.getTrackbarPos('max_red', 'Track Bars')\n",
    "    \n",
    "    #Defining lower bound and upper bound for thresholding\n",
    "    \n",
    "    # Defining lower bounds and upper bounds for thresholding\n",
    "    mask = cv2.inRange(image_HSV,\n",
    "                       (min_blue, min_green, min_red),\n",
    "                       (max_blue, max_green, max_red))\n",
    "    cv2.namedWindow('Binary Image with Mask', cv2.WINDOW_NORMAL)\n",
    "    cv2.imshow('Binary Image with Mask', mask)\n",
    "    \n",
    "    \n",
    "    if cv2.waitKey(1) & 0xFF == ord('q'):\n",
    "        break\n",
    "    \n",
    "cv2.destroyAllWindows()\n",
    "\n",
    "\n",
    "# Printing final chosen Mask numbers\n",
    "print('min_blue, min_green, min_red = {0}, {1}, {2}'.format(min_blue, min_green,\n",
    "                                                            min_red))\n",
    "print('max_blue, max_green, max_red = {0}, {1}, {2}'.format(max_blue, max_green,\n",
    "                                                            max_red))\n"
   ]
  },
  {
   "cell_type": "code",
   "execution_count": null,
   "id": "25403678",
   "metadata": {},
   "outputs": [],
   "source": []
  },
  {
   "cell_type": "code",
   "execution_count": null,
   "id": "c16172e0",
   "metadata": {},
   "outputs": [],
   "source": []
  }
 ],
 "metadata": {
  "kernelspec": {
   "display_name": "Python 3 (ipykernel)",
   "language": "python",
   "name": "python3"
  },
  "language_info": {
   "codemirror_mode": {
    "name": "ipython",
    "version": 3
   },
   "file_extension": ".py",
   "mimetype": "text/x-python",
   "name": "python",
   "nbconvert_exporter": "python",
   "pygments_lexer": "ipython3",
   "version": "3.9.12"
  }
 },
 "nbformat": 4,
 "nbformat_minor": 5
}
