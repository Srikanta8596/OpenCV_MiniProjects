{
 "cells": [
  {
   "cell_type": "code",
   "execution_count": 34,
   "id": "db992df1",
   "metadata": {},
   "outputs": [],
   "source": [
    "import cv2"
   ]
  },
  {
   "cell_type": "code",
   "execution_count": 35,
   "id": "8d06a26e",
   "metadata": {},
   "outputs": [],
   "source": [
    "# Defining lower bound & upper bound of the mask\n",
    "min_blue, min_green, min_red = 0, 0, 243\n",
    "max_blue, max_green, max_red = 255, 255, 255"
   ]
  },
  {
   "cell_type": "code",
   "execution_count": 41,
   "id": "df424152",
   "metadata": {},
   "outputs": [],
   "source": [
    "v = cv2.__version__.split('.')[0]\n",
    "#Defining object from reading video from camera\n",
    "camera=cv2.VideoCapture(1)\n",
    "#0: built in camera, 1:External camera\n",
    "while True:\n",
    "    _,frame_BGR = camera.read()\n",
    "    frame_HSV=cv2.cvtColor(frame_BGR,cv2.COLOR_BGR2HSV)\n",
    "    mask=cv2.inRange(frame_HSV,(min_blue, min_green, min_red),\n",
    "                     (max_blue, max_green, max_red))\n",
    "    # Showing current frame with implemented Mask\n",
    "    # Giving name to the window with Mask\n",
    "    # And specifying that window is resizable\n",
    "    cv2.namedWindow('Binary frame with Mask', cv2.WINDOW_NORMAL)\n",
    "    cv2.imshow('Binary frame with Mask', mask)\n",
    "    \n",
    "    if v=='3':\n",
    "        _,contours,_ =cv2.findContours(mask,cv2.RETR_TREE,cv2.CHAIN_APPROX_NONE)\n",
    "    else:\n",
    "        contours,_ =cv2.findContours(mask,cv2.RETR_TREE,cv2.CHAIN_APPROX_NONE)\n",
    "        \n",
    "    contours=sorted(contours,key=cv2.contourArea,reverse=True)\n",
    "    \n",
    "    if contours:\n",
    "        \n",
    "        (x_min,y_min,box_width,box_height)=cv2.boundingRect(contours[0])\n",
    "        \n",
    "        # Drawing bounding box on the current BGR frame\n",
    "        \n",
    "        cv2.rectangle(frame_BGR,(x_min-15,y_min-15),(x_min+box_width+15,y_min+box_height+15),(0,255,0),3)\n",
    "        \n",
    "        label='Detected Object'\n",
    "        \n",
    "        #Putting text with label in current BGR frame\n",
    "        cv2.putText(frame_BGR,label,(x_min-5,y_min-25),cv2.FONT_HERSHEY_SIMPLEX,1.0,(0,255,0),2)\n",
    "        \n",
    "    cv2.namedWindow('Detected Object',cv2.WINDOW_NORMAL)\n",
    "    cv2.imshow('Detected Object',frame_BGR)\n",
    "    \n",
    "    # breaking the loop when q is pressed\n",
    "    if cv2.waitKey(1) & 0xFF == ord('q'):\n",
    "        break\n",
    "cv2.destroyAllWindows()\n",
    "        \n",
    "    "
   ]
  },
  {
   "cell_type": "code",
   "execution_count": null,
   "id": "c493e39f",
   "metadata": {},
   "outputs": [],
   "source": []
  }
 ],
 "metadata": {
  "kernelspec": {
   "display_name": "Python 3 (ipykernel)",
   "language": "python",
   "name": "python3"
  },
  "language_info": {
   "codemirror_mode": {
    "name": "ipython",
    "version": 3
   },
   "file_extension": ".py",
   "mimetype": "text/x-python",
   "name": "python",
   "nbconvert_exporter": "python",
   "pygments_lexer": "ipython3",
   "version": "3.9.12"
  }
 },
 "nbformat": 4,
 "nbformat_minor": 5
}
